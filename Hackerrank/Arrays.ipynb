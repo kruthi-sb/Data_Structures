{
 "cells": [
  {
   "cell_type": "markdown",
   "metadata": {},
   "source": [
    "# Hackerrank Practice Problems: Arrays\n",
    "https://www.hackerrank.com/domains/data-structures?filters%5Bsubdomains%5D%5B%5D=arrays"
   ]
  },
  {
   "cell_type": "markdown",
   "metadata": {},
   "source": [
    "# 1. Hourglass Sum Problem\n",
    "https://www.hackerrank.com/challenges/2d-array/problem?isFullScreen=true"
   ]
  },
  {
   "cell_type": "code",
   "execution_count": 7,
   "metadata": {},
   "outputs": [
    {
     "name": "stdout",
     "output_type": "stream",
     "text": [
      "19\n"
     ]
    }
   ],
   "source": [
    "# Complete the 'hourglassSum' function below.\n",
    "# The function is expected to return an INTEGER.\n",
    "# The function accepts 2D_INTEGER_ARRAY arr as parameter.\n",
    "\n",
    "def hourglassSum(arr):\n",
    "    sums = []\n",
    "    for i in range(4): #row length\n",
    "        for j in range(4): #column length\n",
    "            curr_sum = arr[i][j] + arr[i][j+1] + arr[i][j+2]\\\n",
    "            + arr[i+1][j+1] + \\\n",
    "            arr[i+2][j] + arr[i+2][j+1] + arr[i+2][j+2]\n",
    "            \n",
    "            sums.append(curr_sum)\n",
    "    return max(sums) \n",
    "\n",
    "arr = [[1,1,1,0,0,0],\n",
    "       [0,1,0,0,0,0],\n",
    "       [1,1,1,0,0,0],\n",
    "       [0,0,2,4,4,0],\n",
    "       [0,0,0,2,0,0],\n",
    "       [0,0,1,2,4,0]]   \n",
    "print(hourglassSum(arr))"
   ]
  },
  {
   "cell_type": "markdown",
   "metadata": {},
   "source": [
    "# 2. Dynamic Array\n",
    "https://www.hackerrank.com/challenges/dynamic-array/problem?isFullScreen=true"
   ]
  },
  {
   "cell_type": "code",
   "execution_count": 14,
   "metadata": {},
   "outputs": [
    {
     "data": {
      "text/plain": [
       "[7, 3]"
      ]
     },
     "execution_count": 14,
     "metadata": {},
     "output_type": "execute_result"
    }
   ],
   "source": [
    "#!/bin/python3\n",
    "\n",
    "import math\n",
    "import os\n",
    "import random\n",
    "import re\n",
    "import sys\n",
    "\n",
    "#\n",
    "# Complete the 'dynamicArray' function below.\n",
    "#\n",
    "# The function is expected to return an INTEGER_ARRAY.\n",
    "# The function accepts following parameters:\n",
    "#  1. INTEGER n\n",
    "#  2. 2D_INTEGER_ARRAY queries\n",
    "#\n",
    "\n",
    "def dynamicArray(n, queries):\n",
    "    # Write your code here\n",
    "    arr = [[] for i in range(n)]\n",
    "    lastAnswer = 0\n",
    "    answers = []\n",
    "    arr[0] = []\n",
    "    arr[1] = []\n",
    "    for i in range(len(queries)):\n",
    "        current_q = queries[i]\n",
    "        if current_q[0] == 1: # 1st query\n",
    "            idx = ((current_q[1]^lastAnswer)%n)\n",
    "            arr[idx].append(current_q[2])\n",
    "        if current_q[0] == 2: # 2nd query\n",
    "            idx = ((current_q[1]^lastAnswer)%n)\n",
    "            lastAnswer = arr[idx][current_q[2]%len(arr[idx])]\n",
    "            answers.append(lastAnswer)\n",
    "    return answers\n",
    "         \n",
    "dynamicArray(2,[[1,0,5],[1,1,7],[1,0,3],[2,1,0],[2,1,1]])\n"
   ]
  },
  {
   "cell_type": "markdown",
   "metadata": {},
   "source": [
    "# 3. Left Rotate\n",
    "https://www.hackerrank.com/challenges/array-left-rotation/problem?isFullScreen=true"
   ]
  },
  {
   "cell_type": "code",
   "execution_count": 25,
   "metadata": {},
   "outputs": [
    {
     "data": {
      "text/plain": [
       "[3, 4, 5, 1, 2]"
      ]
     },
     "execution_count": 25,
     "metadata": {},
     "output_type": "execute_result"
    }
   ],
   "source": [
    "def rotateLeft(d, arr):\n",
    "    # Write your code here\n",
    "    temp = arr[:d]\n",
    "    for i in temp:\n",
    "        arr.remove(i)\n",
    "        arr.append(i)\n",
    "    return arr\n",
    "\n",
    "rotateLeft(2,[1,2,3,4,5])"
   ]
  },
  {
   "cell_type": "markdown",
   "metadata": {},
   "source": [
    "# 4. Match strings in list\n",
    "https://www.hackerrank.com/challenges/sparse-arrays/problem?isFullScreen=true"
   ]
  },
  {
   "cell_type": "code",
   "execution_count": 28,
   "metadata": {},
   "outputs": [
    {
     "data": {
      "text/plain": [
       "[3, 0, 1, 1]"
      ]
     },
     "execution_count": 28,
     "metadata": {},
     "output_type": "execute_result"
    }
   ],
   "source": [
    "def matchingStrings(stringList, queries):\n",
    "    # Write your code here\n",
    "    cnts = []\n",
    "    for checkword in queries:\n",
    "        cnt = 0\n",
    "        for i in stringList:\n",
    "            if i==checkword: \n",
    "                cnt +=1\n",
    "        cnts.append(cnt)\n",
    "    return cnts\n",
    "\n",
    "stringList = ['aba','bcc','acc','aba','bccc','aba']\n",
    "queries = ['aba','ghf','bcc','acc']\n",
    "matchingStrings(stringList,queries)"
   ]
  },
  {
   "cell_type": "markdown",
   "metadata": {},
   "source": [
    "# 5. Array Manipulation\n",
    "\n",
    "https://www.hackerrank.com/challenges/crush/problem?isFullScreen=true"
   ]
  },
  {
   "cell_type": "code",
   "execution_count": 30,
   "metadata": {},
   "outputs": [
    {
     "data": {
      "text/plain": [
       "10"
      ]
     },
     "execution_count": 30,
     "metadata": {},
     "output_type": "execute_result"
    }
   ],
   "source": [
    "# not optimized one:\n",
    "# time complexity: O(m*n)\n",
    "\n",
    "def arrayManipulation(n, queries):\n",
    "    # Write your code here\n",
    "    arr = [0]*n\n",
    "    for q in queries: # m is the no of queries\n",
    "        a,b,k = q\n",
    "        for i in range(a,b+1): # n is the size of the arr\n",
    "            arr[i-1] += k\n",
    "    return max(arr)\n",
    "    \n",
    "arrayManipulation(10,[[1,5,3],[4,8,7],[6,9,1]])  "
   ]
  },
  {
   "cell_type": "code",
   "execution_count": 29,
   "metadata": {},
   "outputs": [
    {
     "name": "stdout",
     "output_type": "stream",
     "text": [
      "required arr:\n",
      " [3, 3, 3, 10, 10, 8, 8, 8, 1, 0] \n",
      "\n",
      "steps:\n",
      "[3, 0, 0, 0, 0, -3, 0, 0, 0, 0, 0]\n",
      "[3, 0, 0, 7, 0, -3, 0, 0, -7, 0, 0]\n",
      "[3, 0, 0, 7, 0, -2, 0, 0, -7, -1, 0]\n",
      "\n",
      "prefix sum:\n",
      " [3, 3, 3, 10, 10, 8, 8, 8, 1, 0, 0]\n",
      "\n",
      "max value:  10\n"
     ]
    },
    {
     "data": {
      "text/plain": [
       "10"
      ]
     },
     "execution_count": 29,
     "metadata": {},
     "output_type": "execute_result"
    }
   ],
   "source": [
    "# optimized code:\n",
    "# time complexity: O(m+n)\n",
    "\n",
    "def arrayManipulation(n, queries):\n",
    "    arr = [0]*n\n",
    "    for q in queries:\n",
    "        a,b,k = q\n",
    "        for i in range(a,b+1):\n",
    "            arr[i-1] += k\n",
    "    print(\"required arr:\\n\",arr, \"\\n\")\n",
    "\n",
    "    arr = [0] * (n + 1)\n",
    "    print(\"steps:\")\n",
    "    for a, b, k in queries:\n",
    "        arr[a - 1] += k\n",
    "        arr[b] -= k\n",
    "        print(arr)\n",
    "    print()\n",
    "\n",
    "    max_value = 0\n",
    "    current_value = 0\n",
    "    prefix_sum = []\n",
    "\n",
    "    for value in arr:\n",
    "        current_value += value\n",
    "        prefix_sum.append(current_value)\n",
    "        max_value = max(max_value, current_value)\n",
    "\n",
    "    print(\"prefix sum:\\n\", prefix_sum)\n",
    "    print(\"\\nmax value: \", max_value)\n",
    "    return max_value\n",
    "\n",
    "arrayManipulation(10,[[1,5,3],[4,8,7],[6,9,1]])  "
   ]
  },
  {
   "cell_type": "markdown",
   "metadata": {},
   "source": [
    "## Explaination for Array Manipulation\n",
    "\n",
    "1. The prefix sum array is an array where each element is the sum of all the elements before it in the original array. For example, if the original array is [1, 2, 3, 4, 5], the prefix sum array would be [1, 3, 6, 10, 15].\n",
    "\n",
    "2. The prefix sum array approach is used to efficiently apply all the operations to the array and find the maximum value. \n",
    "\n",
    "3. Instead of directly adding k to all elements in the range [a, b] for each operation, the function only updates the boundaries of the range in the array. After all operations have been performed, the function calculates the prefix sum of the array, which effectively applies all the operations to the array. \n",
    "\n",
    "4. While calculating the prefix sum, the function also keeps track of the maximum value, which is the maximum value in the array after all operations have been performed.\n",
    "\n",
    "5. The advantage of this approach is that it reduces the time complexity from O(n*m) to O(n+m), where n is the size of the array and m is the number of operations. This is because each operation is performed in constant time, regardless of the range it covers."
   ]
  },
  {
   "cell_type": "markdown",
   "metadata": {},
   "source": [
    "# The END"
   ]
  }
 ],
 "metadata": {
  "kernelspec": {
   "display_name": "Python 3",
   "language": "python",
   "name": "python3"
  },
  "language_info": {
   "codemirror_mode": {
    "name": "ipython",
    "version": 3
   },
   "file_extension": ".py",
   "mimetype": "text/x-python",
   "name": "python",
   "nbconvert_exporter": "python",
   "pygments_lexer": "ipython3",
   "version": "3.11.1"
  },
  "orig_nbformat": 4
 },
 "nbformat": 4,
 "nbformat_minor": 2
}
