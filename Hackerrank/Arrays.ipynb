{
 "cells": [
  {
   "cell_type": "markdown",
   "metadata": {},
   "source": [
    "# Hackerrank Practice Problems: Arrays\n",
    "https://www.hackerrank.com/domains/data-structures?filters%5Bsubdomains%5D%5B%5D=arrays"
   ]
  },
  {
   "cell_type": "markdown",
   "metadata": {},
   "source": [
    "# 1. [Hourglass Sum Problem](https://www.hackerrank.com/challenges/2d-array/problem?isFullScreen=true)"
   ]
  },
  {
   "cell_type": "code",
   "execution_count": 7,
   "metadata": {},
   "outputs": [
    {
     "name": "stdout",
     "output_type": "stream",
     "text": [
      "19\n"
     ]
    }
   ],
   "source": [
    "# Complete the 'hourglassSum' function below.\n",
    "# The function is expected to return an INTEGER.\n",
    "# The function accepts 2D_INTEGER_ARRAY arr as parameter.\n",
    "\n",
    "def hourglassSum(arr):\n",
    "    sums = []\n",
    "    for i in range(4): #row length\n",
    "        for j in range(4): #column length\n",
    "            curr_sum = arr[i][j] + arr[i][j+1] + arr[i][j+2]\\\n",
    "            + arr[i+1][j+1] + \\\n",
    "            arr[i+2][j] + arr[i+2][j+1] + arr[i+2][j+2]\n",
    "            \n",
    "            sums.append(curr_sum)\n",
    "    return max(sums) \n",
    "\n",
    "arr = [[1,1,1,0,0,0],\n",
    "       [0,1,0,0,0,0],\n",
    "       [1,1,1,0,0,0],\n",
    "       [0,0,2,4,4,0],\n",
    "       [0,0,0,2,0,0],\n",
    "       [0,0,1,2,4,0]]   \n",
    "print(hourglassSum(arr))"
   ]
  },
  {
   "cell_type": "code",
   "execution_count": null,
   "metadata": {},
   "outputs": [],
   "source": []
  }
 ],
 "metadata": {
  "kernelspec": {
   "display_name": "Python 3",
   "language": "python",
   "name": "python3"
  },
  "language_info": {
   "codemirror_mode": {
    "name": "ipython",
    "version": 3
   },
   "file_extension": ".py",
   "mimetype": "text/x-python",
   "name": "python",
   "nbconvert_exporter": "python",
   "pygments_lexer": "ipython3",
   "version": "3.11.1"
  },
  "orig_nbformat": 4
 },
 "nbformat": 4,
 "nbformat_minor": 2
}
