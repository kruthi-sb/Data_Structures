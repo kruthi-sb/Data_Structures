{
 "cells": [
  {
   "cell_type": "markdown",
   "metadata": {},
   "source": [
    "# Hackerrank: Linked List"
   ]
  },
  {
   "cell_type": "markdown",
   "metadata": {},
   "source": [
    "# 1. create, add and display"
   ]
  },
  {
   "cell_type": "code",
   "execution_count": 77,
   "metadata": {},
   "outputs": [],
   "source": [
    "# node class\n",
    "class SinglyLinkedListNode:\n",
    "    def __init__(self, node_data):\n",
    "        self.data = node_data\n",
    "        self.next = None\n",
    "\n",
    "# linked list class having head\n",
    "class SinglyLinkedList:\n",
    "    def __init__(self):\n",
    "        self.head = None"
   ]
  },
  {
   "cell_type": "code",
   "execution_count": 78,
   "metadata": {},
   "outputs": [],
   "source": [
    "def printLinkedList(head):\n",
    "    if head: # if head is not None\n",
    "        print(head.data, \"->\", end=' ')\n",
    "        printLinkedList(head.next) # recursive call\n",
    "\n",
    "\n",
    "def insertNodeAtTail(head, data):\n",
    "    # create new node (create an object of the node class)\n",
    "    node = SinglyLinkedListNode(data)\n",
    "    if head == None:\n",
    "        head = node\n",
    "    else:\n",
    "        curr = head\n",
    "        while curr.next != None:\n",
    "            curr = curr.next\n",
    "        curr.next = node\n",
    "    return head"
   ]
  },
  {
   "cell_type": "code",
   "execution_count": 79,
   "metadata": {},
   "outputs": [
    {
     "data": {
      "text/plain": [
       "<__main__.SinglyLinkedListNode at 0x1e279304650>"
      ]
     },
     "execution_count": 79,
     "metadata": {},
     "output_type": "execute_result"
    }
   ],
   "source": [
    "# create linked list\n",
    "sll = SinglyLinkedList()\n",
    "\n",
    "# insert nodes\n",
    "list_head = insertNodeAtTail(sll.head, 1)\n",
    "insertNodeAtTail(list_head, 2)\n",
    "insertNodeAtTail(list_head, 3)"
   ]
  },
  {
   "cell_type": "code",
   "execution_count": 80,
   "metadata": {},
   "outputs": [
    {
     "name": "stdout",
     "output_type": "stream",
     "text": [
      "1 -> 2 -> 3 -> "
     ]
    }
   ],
   "source": [
    "# print linked list\n",
    "printLinkedList(list_head)"
   ]
  },
  {
   "cell_type": "code",
   "execution_count": 81,
   "metadata": {},
   "outputs": [
    {
     "name": "stdout",
     "output_type": "stream",
     "text": [
      "200 -> 100 -> 1 -> 2 -> 3 -> "
     ]
    }
   ],
   "source": [
    "def insertNodeAtHead(head, data):\n",
    "    node = SinglyLinkedListNode(data)\n",
    "    if head == None:\n",
    "        head = node\n",
    "        return head\n",
    "    else:\n",
    "        node.next = head\n",
    "        head = node\n",
    "    return head\n",
    "\n",
    "new_head = insertNodeAtHead(list_head, 100)\n",
    "new_head2 = insertNodeAtHead(new_head, 200)\n",
    "printLinkedList(new_head2)"
   ]
  },
  {
   "cell_type": "code",
   "execution_count": 82,
   "metadata": {},
   "outputs": [
    {
     "name": "stdout",
     "output_type": "stream",
     "text": [
      "200 -> 100 -> 300 -> 1 -> 2 -> 3 -> "
     ]
    }
   ],
   "source": [
    "def insertNodeAtPosition(head, data, position):\n",
    "    newnode = SinglyLinkedListNode(data)\n",
    "    prev = head\n",
    "    for i in range(position-1):\n",
    "        prev = prev.next\n",
    "    laternode = prev.next\n",
    "    prev.next = newnode        \n",
    "    newnode.next = laternode\n",
    "    return head\n",
    "\n",
    "insertNodeAtPosition(new_head2, 300, 2)\n",
    "printLinkedList(new_head2)"
   ]
  },
  {
   "cell_type": "markdown",
   "metadata": {},
   "source": [
    "# Deletions"
   ]
  },
  {
   "cell_type": "code",
   "execution_count": 83,
   "metadata": {},
   "outputs": [
    {
     "name": "stdout",
     "output_type": "stream",
     "text": [
      "200 -> 100 -> 300 -> 2 -> 3 -> "
     ]
    }
   ],
   "source": [
    "def deleteNode(head, position):\n",
    "    prev = head\n",
    "    if position==0:\n",
    "        head = head.next\n",
    "    for i in range(position-1):\n",
    "        prev = prev.next\n",
    "    later = prev.next.next\n",
    "    prev.next = later\n",
    "    return head\n",
    "\n",
    "deleteNode(new_head2, 3)\n",
    "printLinkedList(new_head2)"
   ]
  },
  {
   "cell_type": "code",
   "execution_count": 84,
   "metadata": {},
   "outputs": [
    {
     "name": "stdout",
     "output_type": "stream",
     "text": [
      "3 -> 2 -> 300 -> 100 -> 200 -> "
     ]
    }
   ],
   "source": [
    "def reversePrint(llist):\n",
    "    if llist == None:\n",
    "        return\n",
    "    else:\n",
    "        reversePrint(llist.next)\n",
    "        print(llist.data, \"->\", end=' ')\n",
    "\n",
    "reversePrint(new_head2)"
   ]
  },
  {
   "cell_type": "code",
   "execution_count": null,
   "metadata": {},
   "outputs": [],
   "source": []
  }
 ],
 "metadata": {
  "kernelspec": {
   "display_name": "Python 3",
   "language": "python",
   "name": "python3"
  },
  "language_info": {
   "codemirror_mode": {
    "name": "ipython",
    "version": 3
   },
   "file_extension": ".py",
   "mimetype": "text/x-python",
   "name": "python",
   "nbconvert_exporter": "python",
   "pygments_lexer": "ipython3",
   "version": "3.11.1"
  }
 },
 "nbformat": 4,
 "nbformat_minor": 2
}
