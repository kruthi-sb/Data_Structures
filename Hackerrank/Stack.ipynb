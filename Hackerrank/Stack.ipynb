{
 "cells": [
  {
   "cell_type": "markdown",
   "metadata": {},
   "source": [
    "# Stack in Hackerrank"
   ]
  },
  {
   "cell_type": "markdown",
   "metadata": {},
   "source": [
    "# 1. Get Max element in stack\n",
    "https://www.hackerrank.com/challenges/maximum-element/problem?isFullScreen=true              \n",
    "1 x  -Push the element x into the stack.           \n",
    "2    -Delete the element present at the top of the stack.          \n",
    "3    -Print the maximum element in the stack.           "
   ]
  },
  {
   "cell_type": "code",
   "execution_count": 2,
   "metadata": {},
   "outputs": [],
   "source": [
    "import math\n",
    "def getMax(operations):\n",
    "    # Write your code here\n",
    "    ans = []\n",
    "    stk = []\n",
    "    max_arr = [-math.inf]\n",
    "    for oper in operations:\n",
    "        content = oper.split()\n",
    "        if content[0] == \"1\":\n",
    "            num = int(content[1])\n",
    "            stk.append(num)\n",
    "            max_arr.append(max(max_arr[-1], num))\n",
    "        elif content[0]== \"2\":\n",
    "            stk.pop(-1)\n",
    "            max_arr.pop(-1)\n",
    "        else: # 3\n",
    "            ans.append(max_arr[-1])\n",
    "    return ans\n"
   ]
  },
  {
   "cell_type": "code",
   "execution_count": 3,
   "metadata": {},
   "outputs": [
    {
     "data": {
      "text/plain": [
       "[26, 91]"
      ]
     },
     "execution_count": 3,
     "metadata": {},
     "output_type": "execute_result"
    }
   ],
   "source": [
    "getMax([\"1 97\", \"2\", \"1 20\", \"2\", \"1 26\", \"1 20\", \"2\", \"3\", \"1 91\", \"3\"])"
   ]
  },
  {
   "cell_type": "code",
   "execution_count": null,
   "metadata": {},
   "outputs": [],
   "source": []
  }
 ],
 "metadata": {
  "kernelspec": {
   "display_name": "Python 3",
   "language": "python",
   "name": "python3"
  },
  "language_info": {
   "codemirror_mode": {
    "name": "ipython",
    "version": 3
   },
   "file_extension": ".py",
   "mimetype": "text/x-python",
   "name": "python",
   "nbconvert_exporter": "python",
   "pygments_lexer": "ipython3",
   "version": "3.11.1"
  }
 },
 "nbformat": 4,
 "nbformat_minor": 2
}
