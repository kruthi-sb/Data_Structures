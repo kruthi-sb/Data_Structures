{
 "cells": [
  {
   "cell_type": "markdown",
   "metadata": {},
   "source": [
    "# Stack in Hackerrank"
   ]
  },
  {
   "cell_type": "markdown",
   "metadata": {},
   "source": [
    "# Stack implementation in Python:"
   ]
  },
  {
   "cell_type": "code",
   "execution_count": 35,
   "metadata": {},
   "outputs": [],
   "source": [
    "# give a stack implementation\n",
    "import math\n",
    "class Stack:\n",
    "    def __init__(self):\n",
    "        self.stk = []\n",
    "        # maintain a max_arr to keep track of the max element in the stack\n",
    "        self.max_arr = [-math.inf]\n",
    "    def push(self, num):\n",
    "        self.stk.append(num)\n",
    "        # update the max_arr by comparing the current max with the new element\n",
    "        self.max_arr.append(max(self.max_arr[-1], num))\n",
    "    def pop(self):\n",
    "        self.stk.pop(-1)\n",
    "        # update the max_arr by removing the last element\n",
    "        self.max_arr.pop(-1)\n",
    "    def getMax(self):\n",
    "        return self.max_arr[-1]\n",
    "    def getTop(self):\n",
    "        return self.stk[-1]\n",
    "    def isEmpty(self):\n",
    "        return len(self.stk) == 0\n",
    "    def display(self):\n",
    "        print(self.stk)\n",
    "    def size(self):\n",
    "        return len(self.stk)\n",
    "    def display_max_arr(self):\n",
    "        print(self.max_arr)\n"
   ]
  },
  {
   "cell_type": "code",
   "execution_count": 41,
   "metadata": {},
   "outputs": [
    {
     "name": "stdout",
     "output_type": "stream",
     "text": [
      "[44, 88, 3, 4]\n",
      "[44, 88, 3]\n",
      "[44, 88, 3, 0]\n",
      "[44, 88, 3]\n",
      "[-inf, 44, 88, 88]\n",
      "[44, 88]\n",
      "[44, 88]\n",
      "[]\n"
     ]
    },
    {
     "data": {
      "text/plain": [
       "True"
      ]
     },
     "execution_count": 41,
     "metadata": {},
     "output_type": "execute_result"
    }
   ],
   "source": [
    "# check\n",
    "stk = Stack()\n",
    "stk.push(44)\n",
    "stk.push(88)\n",
    "stk.push(3)\n",
    "stk.push(4)\n",
    "stk.display()\n",
    "stk.pop()\n",
    "stk.display()\n",
    "stk.getMax()\n",
    "stk.getTop()\n",
    "stk.push(0)\n",
    "stk.display()\n",
    "stk.getMax()\n",
    "stk.pop()\n",
    "stk.display()\n",
    "stk.getMax()\n",
    "stk.display_max_arr()\n",
    "stk.getTop()\n",
    "stk.pop()\n",
    "stk.display()\n",
    "stk.isEmpty()\n",
    "stk.size()\n",
    "stk.display()\n",
    "stk.pop()\n",
    "stk.pop()\n",
    "stk.display()\n",
    "stk.isEmpty()\n",
    "\n"
   ]
  },
  {
   "cell_type": "markdown",
   "metadata": {},
   "source": [
    "# 1. Get Max element in stack\n",
    "https://www.hackerrank.com/challenges/maximum-element/problem?isFullScreen=true              \n",
    "1 x  -Push the element x into the stack.           \n",
    "2    -Delete the element present at the top of the stack.          \n",
    "3    -Print the maximum element in the stack.           "
   ]
  },
  {
   "cell_type": "code",
   "execution_count": 25,
   "metadata": {},
   "outputs": [],
   "source": [
    "import math\n",
    "def getMax(operations):\n",
    "    # Write your code here\n",
    "    ans = []\n",
    "    stk = []\n",
    "    max_arr = [-math.inf]\n",
    "    for oper in operations:\n",
    "        content = oper.split()\n",
    "        if content[0] == \"1\":\n",
    "            num = int(content[1])\n",
    "            stk.append(num)\n",
    "            max_arr.append(max(max_arr[-1], num))\n",
    "        elif content[0]== \"2\":\n",
    "            stk.pop(-1)\n",
    "            max_arr.pop(-1)\n",
    "        else: # 3\n",
    "            ans.append(max_arr[-1])\n",
    "    return ans\n"
   ]
  },
  {
   "cell_type": "code",
   "execution_count": 26,
   "metadata": {},
   "outputs": [
    {
     "data": {
      "text/plain": [
       "[26, 91]"
      ]
     },
     "execution_count": 26,
     "metadata": {},
     "output_type": "execute_result"
    }
   ],
   "source": [
    "getMax([\"1 97\", \"2\", \"1 20\", \"2\", \"1 26\", \"1 20\", \"2\", \"3\", \"1 91\", \"3\"])"
   ]
  },
  {
   "cell_type": "markdown",
   "metadata": {},
   "source": [
    "https://youtu.be/RBSGKlAvoiM?t=4425"
   ]
  },
  {
   "cell_type": "code",
   "execution_count": null,
   "metadata": {},
   "outputs": [],
   "source": []
  }
 ],
 "metadata": {
  "kernelspec": {
   "display_name": "Python 3",
   "language": "python",
   "name": "python3"
  },
  "language_info": {
   "codemirror_mode": {
    "name": "ipython",
    "version": 3
   },
   "file_extension": ".py",
   "mimetype": "text/x-python",
   "name": "python",
   "nbconvert_exporter": "python",
   "pygments_lexer": "ipython3",
   "version": "3.11.1"
  }
 },
 "nbformat": 4,
 "nbformat_minor": 2
}
