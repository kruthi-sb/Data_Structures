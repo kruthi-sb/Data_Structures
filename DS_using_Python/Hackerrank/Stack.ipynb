{
 "cells": [
  {
   "cell_type": "markdown",
   "metadata": {},
   "source": [
    "# Stack in Hackerrank"
   ]
  },
  {
   "cell_type": "markdown",
   "metadata": {},
   "source": [
    "# Stack implementation in Python:"
   ]
  },
  {
   "cell_type": "code",
   "execution_count": 35,
   "metadata": {},
   "outputs": [],
   "source": [
    "# give a stack implementation\n",
    "import math\n",
    "class Stack:\n",
    "    def __init__(self):\n",
    "        self.stk = []\n",
    "        # maintain a max_arr to keep track of the max element in the stack\n",
    "        self.max_arr = [-math.inf]\n",
    "    def push(self, num):\n",
    "        self.stk.append(num)\n",
    "        # update the max_arr by comparing the current max with the new element\n",
    "        self.max_arr.append(max(self.max_arr[-1], num))\n",
    "    def pop(self):\n",
    "        self.stk.pop(-1)\n",
    "        # update the max_arr by removing the last element\n",
    "        self.max_arr.pop(-1)\n",
    "    def getMax(self):\n",
    "        return self.max_arr[-1]\n",
    "    def getTop(self):\n",
    "        return self.stk[-1]\n",
    "    def isEmpty(self):\n",
    "        return len(self.stk) == 0\n",
    "    def display(self):\n",
    "        print(self.stk)\n",
    "    def size(self):\n",
    "        return len(self.stk)\n",
    "    def display_max_arr(self):\n",
    "        print(self.max_arr)\n"
   ]
  },
  {
   "cell_type": "code",
   "execution_count": 41,
   "metadata": {},
   "outputs": [
    {
     "name": "stdout",
     "output_type": "stream",
     "text": [
      "[44, 88, 3, 4]\n",
      "[44, 88, 3]\n",
      "[44, 88, 3, 0]\n",
      "[44, 88, 3]\n",
      "[-inf, 44, 88, 88]\n",
      "[44, 88]\n",
      "[44, 88]\n",
      "[]\n"
     ]
    },
    {
     "data": {
      "text/plain": [
       "True"
      ]
     },
     "execution_count": 41,
     "metadata": {},
     "output_type": "execute_result"
    }
   ],
   "source": [
    "# check\n",
    "stk = Stack()\n",
    "stk.push(44)\n",
    "stk.push(88)\n",
    "stk.push(3)\n",
    "stk.push(4)\n",
    "stk.display()\n",
    "stk.pop()\n",
    "stk.display()\n",
    "stk.getMax()\n",
    "stk.getTop()\n",
    "stk.push(0)\n",
    "stk.display()\n",
    "stk.getMax()\n",
    "stk.pop()\n",
    "stk.display()\n",
    "stk.getMax()\n",
    "stk.display_max_arr()\n",
    "stk.getTop()\n",
    "stk.pop()\n",
    "stk.display()\n",
    "stk.isEmpty()\n",
    "stk.size()\n",
    "stk.display()\n",
    "stk.pop()\n",
    "stk.pop()\n",
    "stk.display()\n",
    "stk.isEmpty()\n",
    "\n"
   ]
  },
  {
   "cell_type": "markdown",
   "metadata": {},
   "source": [
    "# 1. Get Max element in stack\n",
    "https://www.hackerrank.com/challenges/maximum-element/problem?isFullScreen=true              \n",
    "1 x  -Push the element x into the stack.           \n",
    "2    -Delete the element present at the top of the stack.          \n",
    "3    -Print the maximum element in the stack.           "
   ]
  },
  {
   "cell_type": "code",
   "execution_count": 25,
   "metadata": {},
   "outputs": [],
   "source": [
    "import math\n",
    "def getMax(operations):\n",
    "    # Write your code here\n",
    "    ans = []\n",
    "    stk = []\n",
    "    max_arr = [-math.inf]\n",
    "    for oper in operations:\n",
    "        content = oper.split()\n",
    "        if content[0] == \"1\":\n",
    "            num = int(content[1])\n",
    "            stk.append(num)\n",
    "            max_arr.append(max(max_arr[-1], num))\n",
    "        elif content[0]== \"2\":\n",
    "            stk.pop(-1)\n",
    "            max_arr.pop(-1)\n",
    "        else: # 3\n",
    "            ans.append(max_arr[-1])\n",
    "    return ans\n"
   ]
  },
  {
   "cell_type": "code",
   "execution_count": 26,
   "metadata": {},
   "outputs": [
    {
     "data": {
      "text/plain": [
       "[26, 91]"
      ]
     },
     "execution_count": 26,
     "metadata": {},
     "output_type": "execute_result"
    }
   ],
   "source": [
    "getMax([\"1 97\", \"2\", \"1 20\", \"2\", \"1 26\", \"1 20\", \"2\", \"3\", \"1 91\", \"3\"])"
   ]
  },
  {
   "cell_type": "markdown",
   "metadata": {},
   "source": [
    "# 2. Brackets Balance\n",
    "- for the upcoming - Key } is the upcoming\n",
    "- here is the value - value { is the value\n",
    "- if the upcoming matches the value then pop\n",
    "- if key matches value then pop\n",
    "- if stack[-1] == format_[char]: then pop "
   ]
  },
  {
   "cell_type": "code",
   "execution_count": 19,
   "metadata": {},
   "outputs": [],
   "source": [
    "def isBalanced(s):\n",
    "    # Write your code here\n",
    "    \n",
    "    format_ = {\n",
    "        '}': '{',\n",
    "        ']': '[',\n",
    "        ')': '('\n",
    "    }\n",
    "    stack = []\n",
    "    for char in s:\n",
    "        # if the char is in the keys of the dictionary (closing brackets only),\n",
    "        # then, we need to pop if there's a match!\n",
    "        if char in format_:\n",
    "            # if the stack is not empty ( if stack)\n",
    "            if stack and stack[-1] == format_[char]:\n",
    "                stack.pop()\n",
    "            else: # if the stack is not found to be empty and also the previous doesn't match the upcoming bracket, then return no\n",
    "                return \"NO\"\n",
    "        # if open bracket\n",
    "        else:\n",
    "            stack.append(char)\n",
    "    if stack:\n",
    "        return \"NO\"\n",
    "    else:\n",
    "        return \"YES\"\n"
   ]
  },
  {
   "cell_type": "code",
   "execution_count": 20,
   "metadata": {},
   "outputs": [
    {
     "data": {
      "text/plain": [
       "'YES'"
      ]
     },
     "execution_count": 20,
     "metadata": {},
     "output_type": "execute_result"
    }
   ],
   "source": [
    "isBalanced('{[()]}')"
   ]
  },
  {
   "cell_type": "markdown",
   "metadata": {},
   "source": [
    "# 3. Equal the stack height (sum) to achieve equal max heights "
   ]
  },
  {
   "cell_type": "code",
   "execution_count": 31,
   "metadata": {},
   "outputs": [
    {
     "data": {
      "text/plain": [
       "5"
      ]
     },
     "execution_count": 31,
     "metadata": {},
     "output_type": "execute_result"
    }
   ],
   "source": [
    "def equalStacks(h1, h2, h3):\n",
    "    # Write your code here\n",
    "    s1, s2, s3 = map(sum, (h1,h2,h3))\n",
    "    \n",
    "    while not (s1 == s2 == s3):\n",
    "        # find the highest sum and pop that first\n",
    "        if s1 >= max(s2,s3):\n",
    "            s1 -= h1.pop(0)\n",
    "        elif s2 >= max(s1,s3):\n",
    "            s2 -= h2.pop(0)\n",
    "        elif s3 >= max(s2,s1):\n",
    "            s3 -= h3.pop(0)\n",
    "\n",
    "    return s1\n",
    "        \n",
    "equalStacks([3,2,1,1,1],[4,3,2],[1,1,4,1])"
   ]
  },
  {
   "cell_type": "markdown",
   "metadata": {},
   "source": [
    "# 4. Max Sum"
   ]
  },
  {
   "cell_type": "code",
   "execution_count": 33,
   "metadata": {},
   "outputs": [
    {
     "data": {
      "text/plain": [
       "4"
      ]
     },
     "execution_count": 33,
     "metadata": {},
     "output_type": "execute_result"
    }
   ],
   "source": [
    "def twoStacks(maxSum, a, b):\n",
    "    # Write your code here\n",
    "    my_sum = 0\n",
    "    cnt = 0\n",
    "    while a or b: # until at least one stack exists\n",
    "        # if a is empty or\n",
    "        # if b is not empty AND the first element of b < a[0]\n",
    "        if not a or (b and b[0] < a[0]):\n",
    "            # if my_sum exceeds the max_sum by adding, then break\n",
    "            if my_sum + b[0] > maxSum:\n",
    "                break # break the while stmt and exit the while loop\n",
    "            my_sum += b.pop(0)\n",
    "        # if a is not empty and b doesn't satisfy the above condition\n",
    "        else:\n",
    "            if my_sum + a[0] > maxSum:\n",
    "                break\n",
    "            my_sum += a.pop(0)\n",
    "        \n",
    "        cnt += 1\n",
    "    return cnt\n",
    "\n",
    "twoStacks(10, [4,2,4,6,1], [2,1,8,5])"
   ]
  },
  {
   "cell_type": "code",
   "execution_count": null,
   "metadata": {},
   "outputs": [],
   "source": []
  }
 ],
 "metadata": {
  "kernelspec": {
   "display_name": "Python 3",
   "language": "python",
   "name": "python3"
  },
  "language_info": {
   "codemirror_mode": {
    "name": "ipython",
    "version": 3
   },
   "file_extension": ".py",
   "mimetype": "text/x-python",
   "name": "python",
   "nbconvert_exporter": "python",
   "pygments_lexer": "ipython3",
   "version": "3.11.1"
  }
 },
 "nbformat": 4,
 "nbformat_minor": 2
}
