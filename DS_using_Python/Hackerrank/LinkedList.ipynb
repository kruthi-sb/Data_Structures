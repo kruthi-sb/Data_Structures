{
 "cells": [
  {
   "cell_type": "markdown",
   "metadata": {},
   "source": [
    "# Hackerrank: Linked List"
   ]
  },
  {
   "cell_type": "markdown",
   "metadata": {},
   "source": [
    "# 1. Singly Linked List Operations"
   ]
  },
  {
   "cell_type": "markdown",
   "metadata": {},
   "source": [
    "## Main"
   ]
  },
  {
   "cell_type": "code",
   "execution_count": 50,
   "metadata": {},
   "outputs": [],
   "source": [
    "# node class\n",
    "class SinglyLinkedListNode:\n",
    "    def __init__(self, node_data):\n",
    "        self.data = node_data\n",
    "        self.next = None\n",
    "\n",
    "# linked list class having head\n",
    "class SinglyLinkedList:\n",
    "    def __init__(self):\n",
    "        self.head = None"
   ]
  },
  {
   "cell_type": "markdown",
   "metadata": {},
   "source": [
    "## print and insert at tail"
   ]
  },
  {
   "cell_type": "code",
   "execution_count": 51,
   "metadata": {},
   "outputs": [],
   "source": [
    "def printLinkedList(head):\n",
    "    if head: # if head is not None\n",
    "        print(head.data, \"->\", end=' ')\n",
    "        printLinkedList(head.next) # recursive call\n",
    "\n",
    "\n",
    "def insertNodeAtTail(head, data):\n",
    "    # create new node (create an object of the node class)\n",
    "    node = SinglyLinkedListNode(data)\n",
    "    if head == None:\n",
    "        head = node\n",
    "    else:\n",
    "        curr = head\n",
    "        while curr.next != None:\n",
    "            curr = curr.next\n",
    "        curr.next = node\n",
    "    return head"
   ]
  },
  {
   "cell_type": "code",
   "execution_count": 52,
   "metadata": {},
   "outputs": [
    {
     "data": {
      "text/plain": [
       "<__main__.SinglyLinkedListNode at 0x1f4544cfbd0>"
      ]
     },
     "execution_count": 52,
     "metadata": {},
     "output_type": "execute_result"
    }
   ],
   "source": [
    "# create linked list\n",
    "sll = SinglyLinkedList()\n",
    "\n",
    "# insert nodes\n",
    "list_head = insertNodeAtTail(sll.head, 1)\n",
    "insertNodeAtTail(list_head, 2)\n",
    "insertNodeAtTail(list_head, 3)"
   ]
  },
  {
   "cell_type": "code",
   "execution_count": 53,
   "metadata": {},
   "outputs": [
    {
     "name": "stdout",
     "output_type": "stream",
     "text": [
      "1 -> 2 -> 3 -> "
     ]
    }
   ],
   "source": [
    "# print linked list\n",
    "printLinkedList(list_head)"
   ]
  },
  {
   "cell_type": "markdown",
   "metadata": {},
   "source": [
    "## insert at head"
   ]
  },
  {
   "cell_type": "code",
   "execution_count": 54,
   "metadata": {},
   "outputs": [
    {
     "name": "stdout",
     "output_type": "stream",
     "text": [
      "200 -> 100 -> 1 -> 2 -> 3 -> "
     ]
    }
   ],
   "source": [
    "def insertNodeAtHead(head, data):\n",
    "    node = SinglyLinkedListNode(data)\n",
    "    if head == None:\n",
    "        head = node\n",
    "        return head\n",
    "    else:\n",
    "        node.next = head\n",
    "        head = node\n",
    "    return head\n",
    "\n",
    "new_head = insertNodeAtHead(list_head, 100)\n",
    "new_head2 = insertNodeAtHead(new_head, 200)\n",
    "printLinkedList(new_head2)"
   ]
  },
  {
   "cell_type": "markdown",
   "metadata": {},
   "source": [
    "## insert at position"
   ]
  },
  {
   "cell_type": "code",
   "execution_count": 55,
   "metadata": {},
   "outputs": [
    {
     "name": "stdout",
     "output_type": "stream",
     "text": [
      "200 -> 100 -> 300 -> 1 -> 2 -> 3 -> "
     ]
    }
   ],
   "source": [
    "def insertNodeAtPosition(head, data, position):\n",
    "    newnode = SinglyLinkedListNode(data)\n",
    "    prev = head\n",
    "    for i in range(position-1):\n",
    "        prev = prev.next\n",
    "    laternode = prev.next\n",
    "    prev.next = newnode        \n",
    "    newnode.next = laternode\n",
    "    return head\n",
    "\n",
    "insertNodeAtPosition(new_head2, 300, 2)\n",
    "printLinkedList(new_head2)"
   ]
  },
  {
   "cell_type": "markdown",
   "metadata": {},
   "source": [
    "## delete node at position"
   ]
  },
  {
   "cell_type": "code",
   "execution_count": 56,
   "metadata": {},
   "outputs": [
    {
     "name": "stdout",
     "output_type": "stream",
     "text": [
      "200 -> 100 -> 300 -> 2 -> 3 -> "
     ]
    }
   ],
   "source": [
    "def deleteNode(head, position):\n",
    "    prev = head\n",
    "    if position==0:\n",
    "        head = head.next\n",
    "    for i in range(position-1):\n",
    "        prev = prev.next\n",
    "    later = prev.next.next\n",
    "    prev.next = later\n",
    "    return head\n",
    "\n",
    "deleteNode(new_head2, 3)\n",
    "printLinkedList(new_head2)"
   ]
  },
  {
   "cell_type": "markdown",
   "metadata": {},
   "source": [
    "## reverse print and reverse list"
   ]
  },
  {
   "cell_type": "code",
   "execution_count": 57,
   "metadata": {},
   "outputs": [
    {
     "name": "stdout",
     "output_type": "stream",
     "text": [
      "3 -> 2 -> 300 -> 100 -> 200 -> "
     ]
    }
   ],
   "source": [
    "def reversePrint(llist):\n",
    "    if llist == None:\n",
    "        return\n",
    "    else:\n",
    "        reversePrint(llist.next)\n",
    "        print(llist.data, \"->\", end=' ')\n",
    "\n",
    "reversePrint(new_head2)"
   ]
  },
  {
   "cell_type": "code",
   "execution_count": 58,
   "metadata": {},
   "outputs": [
    {
     "name": "stdout",
     "output_type": "stream",
     "text": [
      "3 -> 2 -> 300 -> 100 -> 200 -> "
     ]
    }
   ],
   "source": [
    "def reverseDll(head):\n",
    "    if head == None: return\n",
    "    prev = None\n",
    "    curr = head\n",
    "    while curr:\n",
    "        nextnode = curr.next\n",
    "        curr.next = prev\n",
    "        prev = curr\n",
    "        curr = nextnode\n",
    "    head = prev\n",
    "    return head\n",
    "\n",
    "rev_head = reverseDll(new_head2)\n",
    "printLinkedList(rev_head)"
   ]
  },
  {
   "cell_type": "markdown",
   "metadata": {},
   "source": [
    "## Cycle Detection "
   ]
  },
  {
   "cell_type": "code",
   "execution_count": 59,
   "metadata": {},
   "outputs": [
    {
     "data": {
      "text/plain": [
       "0"
      ]
     },
     "execution_count": 59,
     "metadata": {},
     "output_type": "execute_result"
    }
   ],
   "source": [
    "def has_cycle(head):\n",
    "    if head == None or head.next == None: return 0\n",
    "    curr = head\n",
    "    check = [] # list of nodes\n",
    "    while curr != None:\n",
    "        if curr in check:\n",
    "            return 1\n",
    "        else:\n",
    "            check.append(curr)\n",
    "            curr = curr.next\n",
    "    return 0\n",
    "\n",
    "has_cycle(rev_head)"
   ]
  },
  {
   "cell_type": "markdown",
   "metadata": {},
   "source": [
    "## remove duplicates"
   ]
  },
  {
   "cell_type": "code",
   "execution_count": 60,
   "metadata": {},
   "outputs": [
    {
     "name": "stdout",
     "output_type": "stream",
     "text": [
      "3 -> 2 -> 300 -> 100 -> 200 -> "
     ]
    }
   ],
   "source": [
    "def removeDuplicates(llist):\n",
    "    curr = llist\n",
    "    \n",
    "    if curr is None: return\n",
    "    seen_data = set([curr.data])\n",
    "    while curr.next:\n",
    "        if curr.next.data in seen_data:\n",
    "            curr.next = curr.next.next\n",
    "        else:\n",
    "            seen_data.add(curr.next.data)\n",
    "            curr = curr.next\n",
    "    return llist\n",
    "\n",
    "removeDuplicates(rev_head)\n",
    "printLinkedList(rev_head)"
   ]
  },
  {
   "cell_type": "markdown",
   "metadata": {},
   "source": [
    "# 2. Doubly Linked List Operations"
   ]
  },
  {
   "cell_type": "markdown",
   "metadata": {},
   "source": [
    "## Main: create node, insert at end, display"
   ]
  },
  {
   "cell_type": "code",
   "execution_count": 61,
   "metadata": {},
   "outputs": [],
   "source": [
    "class DoublyLinkedListNode:\n",
    "    def __init__(self, node_data):\n",
    "        self.data = node_data\n",
    "        self.next = None\n",
    "        self.prev = None\n",
    "\n",
    "class DoublyLinkedList:\n",
    "    def __init__(self):\n",
    "        self.head = None\n",
    "        self.tail = None\n",
    "\n",
    "    def insert_node(self, node_data):\n",
    "        node = DoublyLinkedListNode(node_data)\n",
    "\n",
    "        if not self.head:\n",
    "            self.head = node\n",
    "        else:\n",
    "            self.tail.next = node\n",
    "            node.prev = self.tail\n",
    "\n",
    "        self.tail = node\n",
    "    \n",
    "    def display(self):\n",
    "        print()\n",
    "        curr = self.head\n",
    "        while curr:\n",
    "            print(curr.data, \"->\", end=' ')\n",
    "            curr = curr.next"
   ]
  },
  {
   "cell_type": "markdown",
   "metadata": {},
   "source": [
    "## display with head parameter"
   ]
  },
  {
   "cell_type": "code",
   "execution_count": 62,
   "metadata": {},
   "outputs": [],
   "source": [
    "def display(head):\n",
    "    print()\n",
    "    curr = head\n",
    "    while curr:\n",
    "        print(curr.data, \"->\", end=' ')\n",
    "        curr = curr.next"
   ]
  },
  {
   "cell_type": "markdown",
   "metadata": {},
   "source": [
    "## Sorted insert"
   ]
  },
  {
   "cell_type": "code",
   "execution_count": 63,
   "metadata": {},
   "outputs": [
    {
     "name": "stdout",
     "output_type": "stream",
     "text": [
      "\n",
      "1 -> 2 -> 4 -> 6 -> \n",
      "1 -> 2 -> 4 -> 5 -> 6 -> \n",
      "1 -> 2 -> 3 -> 4 -> 5 -> 6 -> "
     ]
    }
   ],
   "source": [
    "def sortedInsertDll(head, data):\n",
    "    newnode = DoublyLinkedListNode(data)\n",
    "    curr = head\n",
    "    while curr:\n",
    "        if curr.data > data:\n",
    "            if curr.prev is None: #if curr is head\n",
    "                curr.prev = newnode\n",
    "                newnode.next = curr\n",
    "                head = newnode\n",
    "                \n",
    "            else:\n",
    "                before = curr.prev\n",
    "                curr.prev = newnode\n",
    "                newnode.next = curr\n",
    "                newnode.prev = before\n",
    "                before.next = newnode\n",
    "            return head\n",
    "        \n",
    "        elif curr.next is None:\n",
    "            curr.next = newnode\n",
    "            newnode.prev = curr\n",
    "            return head\n",
    "        \n",
    "        curr = curr.next\n",
    "\n",
    "dll = DoublyLinkedList()\n",
    "dll.insert_node(1)\n",
    "dll.insert_node(2)\n",
    "dll.insert_node(4)\n",
    "dll.insert_node(6)\n",
    "display(dll.head)\n",
    "sortedInsertDll(dll.head, 5)\n",
    "display(dll.head)\n",
    "sortedInsertDll(dll.head, 3)\n",
    "display(dll.head)"
   ]
  },
  {
   "cell_type": "markdown",
   "metadata": {},
   "source": [
    "## Reverse dll"
   ]
  },
  {
   "cell_type": "code",
   "execution_count": 64,
   "metadata": {},
   "outputs": [
    {
     "name": "stdout",
     "output_type": "stream",
     "text": [
      "\n",
      "6 -> 5 -> 4 -> 3 -> 2 -> 1 -> "
     ]
    }
   ],
   "source": [
    "def reverseDll(head):\n",
    "    curr = head\n",
    "    previous_node = None\n",
    "    while curr:\n",
    "        next_node = curr.next\n",
    "        curr.next = previous_node\n",
    "        curr.prev = next_node\n",
    "        previous_node = curr\n",
    "        curr = next_node\n",
    "    return previous_node\n",
    "\n",
    "rev_head = reverseDll(dll.head)\n",
    "display(rev_head)"
   ]
  },
  {
   "cell_type": "markdown",
   "metadata": {},
   "source": [
    "# The End"
   ]
  }
 ],
 "metadata": {
  "kernelspec": {
   "display_name": "Python 3",
   "language": "python",
   "name": "python3"
  },
  "language_info": {
   "codemirror_mode": {
    "name": "ipython",
    "version": 3
   },
   "file_extension": ".py",
   "mimetype": "text/x-python",
   "name": "python",
   "nbconvert_exporter": "python",
   "pygments_lexer": "ipython3",
   "version": "3.11.1"
  }
 },
 "nbformat": 4,
 "nbformat_minor": 2
}
