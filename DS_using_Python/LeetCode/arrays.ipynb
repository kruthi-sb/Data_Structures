{
 "cells": [
  {
   "cell_type": "markdown",
   "metadata": {},
   "source": [
    "1. Merge sorted arrays https://leetcode.com/problems/merge-sorted-array/?envType=study-plan-v2&envId=top-interview-150"
   ]
  },
  {
   "cell_type": "code",
   "execution_count": 8,
   "metadata": {},
   "outputs": [
    {
     "name": "stdout",
     "output_type": "stream",
     "text": [
      "[1, 2, 2, 3, 5, 6]\n"
     ]
    }
   ],
   "source": [
    "def merge_sorted_arr(nums1, m, nums2, n):\n",
    "    i, j, k = m-1, n-1, m+n-1\n",
    "    # k is last position of the final arr\n",
    "\n",
    "    while j >= 0:\n",
    "        if i>=0 and nums1[i] > nums2[j]:\n",
    "            nums1[k] = nums1[i]\n",
    "            i -= 1\n",
    "        else:\n",
    "            nums1[k] = nums2[j]\n",
    "            j -= 1\n",
    "        k -=1       \n",
    "    return nums1\n",
    "\n",
    "nums1 = [1,2,3,0,0,0]\n",
    "nums2 = [2,5,6]\n",
    "m = 3\n",
    "n = 3\n",
    "print(merge_sorted_arr(nums1, m, nums2, n))\n",
    "# time complexity = O(m+n)"
   ]
  },
  {
   "cell_type": "markdown",
   "metadata": {},
   "source": [
    "2. Remove Element\n",
    "https://leetcode.com/problems/remove-element/?envType=study-plan-v2&envId=top-interview-150"
   ]
  },
  {
   "cell_type": "code",
   "execution_count": 9,
   "metadata": {},
   "outputs": [
    {
     "name": "stdout",
     "output_type": "stream",
     "text": [
      "2\n"
     ]
    }
   ],
   "source": [
    "def remove_element(nums, val):\n",
    "    k,i = len(nums), len(nums)-1\n",
    "        \n",
    "    while i>=0:\n",
    "        if nums[i] == val:\n",
    "            nums.pop(i)\n",
    "            k -= 1\n",
    "        i -= 1\n",
    "               \n",
    "    return k\n",
    "\n",
    "nums = [3,2,2,3]\n",
    "val = 3\n",
    "print(remove_element(nums, val))\n",
    "# time complexity = O(n)"
   ]
  },
  {
   "cell_type": "markdown",
   "metadata": {},
   "source": [
    "3. Remove Duplicates : https://leetcode.com/problems/remove-duplicates-from-sorted-array/?envType=study-plan-v2&envId=top-interview-150"
   ]
  },
  {
   "cell_type": "code",
   "execution_count": 25,
   "metadata": {},
   "outputs": [
    {
     "name": "stdout",
     "output_type": "stream",
     "text": [
      "(5, [0, 1, 2, 3, 4])\n"
     ]
    }
   ],
   "source": [
    "def removeDuplicates(nums) -> int:\n",
    "\n",
    "    count = 1 # starting num is unique\n",
    "    key = nums[0]\n",
    "\n",
    "    for i in range(1,len(nums)):\n",
    "        if nums[i] != key:\n",
    "            key = nums[i]\n",
    "            nums[count] = nums[i]\n",
    "            count += 1\n",
    "    return count, nums[:count]\n",
    "nums = [0,0,1,1,1,2,2,3,3,4]\n",
    "print(removeDuplicates(nums))"
   ]
  },
  {
   "cell_type": "markdown",
   "metadata": {},
   "source": [
    "4. Atmost 2 duplicates: "
   ]
  },
  {
   "cell_type": "code",
   "execution_count": 26,
   "metadata": {},
   "outputs": [
    {
     "name": "stdout",
     "output_type": "stream",
     "text": [
      "(7, [0, 0, 1, 1, 2, 3, 3])\n"
     ]
    }
   ],
   "source": [
    "def remove_more_than_twice(nums):\n",
    "    i = 0\n",
    "    for num in nums:\n",
    "        if i < 2 or num > nums[i-2]:\n",
    "            nums[i] = num\n",
    "            i += 1\n",
    "    return i, nums[:i]\n",
    "\n",
    "nums = [0,0,1,1,1,1,2,3,3]\n",
    "print(remove_more_than_twice(nums))\n",
    "# time complexity = O(n)"
   ]
  },
  {
   "cell_type": "markdown",
   "metadata": {},
   "source": [
    "5. Mode of list: https://leetcode.com/problems/majority-element/?envType=study-plan-v2&envId=top-interview-150"
   ]
  },
  {
   "cell_type": "code",
   "execution_count": 34,
   "metadata": {},
   "outputs": [
    {
     "name": "stdout",
     "output_type": "stream",
     "text": [
      "2\n"
     ]
    }
   ],
   "source": [
    "def mode_1(nums) -> int:\n",
    "\n",
    "    dict1 = {}\n",
    "    max_freq = 0\n",
    "    for i in nums:\n",
    "        if i in dict1:\n",
    "            dict1[i] += 1\n",
    "        else:\n",
    "            dict1[i] = 1\n",
    "        max_freq = max(max_freq, dict1[i])\n",
    "\n",
    "    mode_elements = [i for i, freq in dict1.items() if freq == max_freq]\n",
    "    \n",
    "    return mode_elements[0]\n",
    "\n",
    "nums = [2,2,1,1,1,2,2]\n",
    "print(mode_1(nums))\n",
    "# time complexity = O(n)\n",
    "# best solution"
   ]
  },
  {
   "cell_type": "code",
   "execution_count": 38,
   "metadata": {},
   "outputs": [
    {
     "name": "stdout",
     "output_type": "stream",
     "text": [
      "2\n"
     ]
    }
   ],
   "source": [
    "def mode_2(nums):\n",
    "    set1 = set(nums)\n",
    "    for i in set1:\n",
    "        if nums.count(i) > (len(nums)//2):\n",
    "            return i\n",
    "print(mode_2(nums))\n",
    "# time complexity = O(n^2) "
   ]
  },
  {
   "cell_type": "code",
   "execution_count": 39,
   "metadata": {},
   "outputs": [
    {
     "name": "stdout",
     "output_type": "stream",
     "text": [
      "2\n"
     ]
    }
   ],
   "source": [
    "def mode_3(nums):\n",
    "    nums.sort()\n",
    "    return nums[len(nums)//2]\n",
    "print(mode_3(nums))\n",
    "# time complexity = O(nlogn) - for timsort\n",
    "# better than mode_2"
   ]
  },
  {
   "cell_type": "code",
   "execution_count": null,
   "metadata": {},
   "outputs": [],
   "source": []
  }
 ],
 "metadata": {
  "kernelspec": {
   "display_name": "CodingPractice",
   "language": "python",
   "name": "python3"
  },
  "language_info": {
   "codemirror_mode": {
    "name": "ipython",
    "version": 3
   },
   "file_extension": ".py",
   "mimetype": "text/x-python",
   "name": "python",
   "nbconvert_exporter": "python",
   "pygments_lexer": "ipython3",
   "version": "3.12.0"
  }
 },
 "nbformat": 4,
 "nbformat_minor": 2
}
