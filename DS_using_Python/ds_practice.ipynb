{
 "cells": [
  {
   "cell_type": "markdown",
   "metadata": {},
   "source": [
    "# Data Structures using Python"
   ]
  },
  {
   "cell_type": "markdown",
   "metadata": {},
   "source": [
    "## Fundamentals\n",
    "1. **Desc**:\n",
    "A data structure is a way of organizing the data so that it can be used effectively.   \n",
    "\n",
    "2. **Abstract Data Type(ADT)**:\n",
    "An abstract data type is an abstraction of a data structure that provides only the interface to which data structure must adhere to. It does not specify how to must be implemented and in what proogramming language.      \n",
    "   \n",
    "3. **Complexity Analysis**:\n",
    "- *Time Complexity*: how much time does my algorithm take to finish?\n",
    "- *Space Complexity*: how much space does my algorithm need for computation?\n",
    "4. **Big-O Notation**: measure of time complexity which gives the upper bound of the complexity in worst case.\n"
   ]
  },
  {
   "cell_type": "markdown",
   "metadata": {},
   "source": [
    "### Examples for Time Complexities"
   ]
  },
  {
   "cell_type": "markdown",
   "metadata": {},
   "source": [
    "1. Constant Time: O(1)"
   ]
  },
  {
   "cell_type": "code",
   "execution_count": 6,
   "metadata": {},
   "outputs": [],
   "source": [
    "# Constant Time\n",
    "# O(1)\n",
    "def constant_time():\n",
    "    a = 1\n",
    "    b = 2\n",
    "    c = a + 5*b\n",
    "    return c\n",
    "# f(n) = 1\n",
    "# O(f(n)) = O(1)\n",
    "\n",
    "def constant_time_2():\n",
    "    i = 0\n",
    "    while i < 10:\n",
    "        i += 1\n",
    "    return i\n",
    "# f(n) = 1\n",
    "# O(f(n)) = O(1)"
   ]
  },
  {
   "cell_type": "markdown",
   "metadata": {},
   "source": [
    "2. Linear Time: O(n)"
   ]
  },
  {
   "cell_type": "code",
   "execution_count": 5,
   "metadata": {},
   "outputs": [],
   "source": [
    "# Linear time\n",
    "# O(n)\n",
    "def linear_time(n):\n",
    "    i = 0\n",
    "    while i < n:\n",
    "        # some constant time operation\n",
    "        i += 1 # O(1)\n",
    "        return i\n",
    "# f(n) = n\n",
    "# O(f(n)) = O(n)\n",
    "\n",
    "def linear_time_2(n):\n",
    "    i = 0\n",
    "    while i < n:\n",
    "        # some constant time operation\n",
    "        i += 3 # O(1)\n",
    "        return i\n",
    "# f(n) = n/3\n",
    "# O(f(n)) = O(n)"
   ]
  },
  {
   "cell_type": "markdown",
   "metadata": {},
   "source": [
    "3. Quadratic Time: O(n^2)"
   ]
  },
  {
   "cell_type": "code",
   "execution_count": 26,
   "metadata": {},
   "outputs": [],
   "source": [
    "# Quadratic time\n",
    "# O(n^2)\n",
    "def quad_time(n):\n",
    "    for i in range(0,n,1):\n",
    "        for j in range(0,n,1):\n",
    "            # some constant time operation\n",
    "            p = i * j # O(1)\n",
    "            return p\n",
    "# n work is done n times\n",
    "# f(n) = n^2\n",
    "# O(f(n)) = O(n^2)\n",
    "\n",
    "def quad_time_2(n):\n",
    "    for i in range(0,n,1):\n",
    "        for j in range(i,n,1):  # j starts at i\n",
    "            # some constant time operation\n",
    "            p = i * j # O(1)\n",
    "            return p\n",
    "# in 2nd loop, j starts at i\n",
    "# i is 0 to n\n",
    "# if i = 0, we do \"n\" work; if i = 1, we do\"n-1\" work; and so on...\n",
    "# f(n) = n + (n-1) + (n-2) + ... + 1 = n(n+1)/2\n",
    "# f(n) = n^2/2 + n/2\n",
    "# O(f(n)) = O(n^2)\n",
    "\n",
    "def quad_time_3(n):\n",
    "    i = 0\n",
    "    while i < n:\n",
    "        j = 0\n",
    "        while j < 3*n:\n",
    "            j += 1\n",
    "        j = 0\n",
    "        while j < 2*n:\n",
    "            j += 1\n",
    "        i += 1\n",
    "        return i\n",
    "# f(n) = n * (3n + 2n) = 5n^2\n",
    "# O(f(n)) = O(n^2)"
   ]
  },
  {
   "cell_type": "markdown",
   "metadata": {},
   "source": [
    "4. Cubic Time: O(n^3)"
   ]
  },
  {
   "cell_type": "code",
   "execution_count": 8,
   "metadata": {},
   "outputs": [],
   "source": [
    "# Cubic time\n",
    "# O(n^3)\n",
    "def cubic_time(n):\n",
    "    for i in range(0,n,1):\n",
    "        for j in range(0,n,1):\n",
    "            for k in range(0,n,1):\n",
    "                # some constant time operation\n",
    "                p = i * j * k # O(1)\n",
    "                return p\n",
    "# work is done n*n*n times\n",
    "# f(n) = n^3\n",
    "# O(f(n)) = O(n^3)"
   ]
  },
  {
   "cell_type": "markdown",
   "metadata": {},
   "source": [
    "5. Logarithmic Time: O(log n)"
   ]
  },
  {
   "cell_type": "code",
   "execution_count": 16,
   "metadata": {},
   "outputs": [],
   "source": [
    "# Logarithmic time\n",
    "# O(log(n))\n",
    "\n",
    "# Example of Binary Search\n",
    "# search for a number in a sorted list by repeatedly dividing the search interval in half.\n",
    "def log_time(n, arr, key):\n",
    "    # n is the length of the list\n",
    "    # arr is the sorted list\n",
    "    low = 0\n",
    "    high = n-1\n",
    "    while low <= high:\n",
    "        mid = (low + high)//2\n",
    "        if arr[mid] == key:\n",
    "            return mid\n",
    "        elif arr[mid] < key:\n",
    "            low = mid + 1\n",
    "        elif arr[mid] > key:\n",
    "            high = mid - 1\n",
    "    return -1\n",
    "# in each iteration, we divide the search interval in half\n",
    "# which reduces the search space by half each time\n",
    "# f(n) = log2(n)\n",
    "# O(f(n)) = O(log2(n))\n"
   ]
  },
  {
   "cell_type": "markdown",
   "metadata": {},
   "source": [
    "6. Another example"
   ]
  },
  {
   "cell_type": "code",
   "execution_count": 29,
   "metadata": {},
   "outputs": [],
   "source": [
    "def another_eg(n):\n",
    "    i = 0\n",
    "    while i < 3*n:\n",
    "        j = 10\n",
    "        while j <= 50:\n",
    "            j += 1\n",
    "        j = 0\n",
    "        while j < n^3:\n",
    "            j += 2\n",
    "        i += 1\n",
    "        return j\n",
    "# f(n) = 3n * (50-10 + n^3/2) = 3n * (40 + n^3/2)\n",
    "# f(n) = 120n + 3n^4/2\n",
    "# O(f(n)) = O(n^4)"
   ]
  },
  {
   "cell_type": "markdown",
   "metadata": {},
   "source": [
    "# Static and Dynamic Arrays"
   ]
  },
  {
   "cell_type": "markdown",
   "metadata": {},
   "source": [
    "### Desc\n",
    "1. Static Arrays: is a fixed length container containing n elements indexable from the range [0,n-1]. It is static because it's size is fixed and cannot be changed during runtime.\n",
    "2. Dynamic array can grow and shrink in size.\n"
   ]
  },
  {
   "cell_type": "markdown",
   "metadata": {},
   "source": [
    "## Static Array"
   ]
  },
  {
   "cell_type": "code",
   "execution_count": 75,
   "metadata": {},
   "outputs": [],
   "source": [
    "# we implement static arrays using lists as the base data structure in python.\n",
    "class StaticArray:\n",
    "    def __init__(self, capacity):\n",
    "        self.capacity = capacity\n",
    "        self.arr = [None] * capacity\n",
    "        self.next_empty = 0\n",
    "\n",
    "    def __str__(self):\n",
    "        return \"Static Array Implementaion:\"\n",
    "\n",
    "    def __len__(self):\n",
    "        return self.capacity\n",
    "    \n",
    "    def __getitem__(self, index):\n",
    "        if not (0 <= index < self.capacity):\n",
    "            raise IndexError(\"Index out of range\")\n",
    "        return self.arr[index]\n",
    "    \n",
    "    def __setitem__(self, index, value):\n",
    "        if not (0 <= index < self.capacity):\n",
    "            raise IndexError(\"Index out of range\")\n",
    "        self.arr[index] = value\n",
    "\n",
    "    def append(self, value):\n",
    "        if self.next_empty >= self.capacity:\n",
    "            raise IndexError(\"Array is full\")\n",
    "        if self.arr[self.next_empty] is None:\n",
    "            self.arr[self.next_empty] = value\n",
    "            self.next_empty += 1\n",
    "        else:\n",
    "            self.next_empty += 1\n",
    "            self.append(value)\n",
    "\n",
    "    def insert(self, index,value):\n",
    "        if not (0 <= index < self.capacity):\n",
    "            raise IndexError(\"Index out of range\")\n",
    "        self.arr[index] = value\n",
    "        if self.next_empty == index:\n",
    "            self.next_empty += 1\n",
    "        return self.arr\n",
    "\n",
    "    def remove(self,value):\n",
    "        for i in range(self.capacity):\n",
    "            if self.arr[i] == value:\n",
    "                item = self.arr[i]\n",
    "                for j in range(i, self.capacity-1):\n",
    "                    self.arr[j] = self.arr[j + 1]\n",
    "                self.arr[self.capacity - 1] = None\n",
    "                if self.next_empty > i:\n",
    "                    self.next_empty = i\n",
    "                return \n",
    "        raise ValueError(\"value not found\")\n",
    "\n",
    "    def pop(self, index = None):\n",
    "        if index is None:\n",
    "            index = self.next_empty-1  # prev element\n",
    "        if not (0 <= index < self.capacity):\n",
    "            raise IndexError(\"Index out of range\")\n",
    "        item = self.arr[index]\n",
    "        for i in range(index, self.capacity - 1):\n",
    "            self.arr[i] = self.arr[i + 1]\n",
    "        self.arr[self.capacity - 1] = None\n",
    "        if self.next_empty > index:\n",
    "            self.next_empty = index\n",
    "        return item\n",
    "\n",
    "    def print_arr(self):\n",
    "        print(self.arr)\n"
   ]
  },
  {
   "cell_type": "code",
   "execution_count": 83,
   "metadata": {},
   "outputs": [
    {
     "name": "stdout",
     "output_type": "stream",
     "text": [
      "Static Array Implementaion:\n",
      "[3, None, None, None, None, None]\n",
      "[3, 4, None, None, None, None]\n",
      "[3, 4, None, 9, None, None]\n",
      "[3, 4, 6, 9, None, None]\n",
      "[3, 4, 6, 9, 7, None]\n",
      "[3, 4, 6, 9, 7, 8]\n",
      "[3, 4, 6, 9, 7, None]\n",
      "[3, 4, 6, 9, 7, 8]\n",
      "[4, 6, 9, 7, 8, None]\n",
      "[4, 6, 7, 8, None, None]\n",
      "[4, 6, 7, 8, 10, None]\n",
      "[4, 6, 7, 8, None, 99]\n",
      "[4, 6, 7, None, 99, None]\n"
     ]
    }
   ],
   "source": [
    "sa = StaticArray(6)\n",
    "print(sa)\n",
    "sa.insert(0,3)\n",
    "sa.print_arr()\n",
    "sa.append(4)\n",
    "sa.print_arr()\n",
    "sa.insert(3,9)\n",
    "sa.print_arr()\n",
    "sa.append(6)\n",
    "sa.print_arr()\n",
    "sa.append(7)\n",
    "sa.print_arr()\n",
    "sa.append(8)\n",
    "sa.print_arr()\n",
    "sa.pop()\n",
    "sa.pop(5)\n",
    "sa.print_arr()\n",
    "sa.append(8)\n",
    "sa.print_arr()\n",
    "sa.remove(3)\n",
    "sa.print_arr()\n",
    "sa.pop(2)\n",
    "sa.print_arr()\n",
    "sa.append(10)\n",
    "sa.print_arr()\n",
    "sa.pop()\n",
    "sa.insert(5,99)\n",
    "sa.print_arr()\n",
    "sa.pop()\n",
    "sa.print_arr()"
   ]
  },
  {
   "cell_type": "markdown",
   "metadata": {},
   "source": [
    "works!"
   ]
  },
  {
   "cell_type": "markdown",
   "metadata": {},
   "source": [
    "# Linked Lists\n",
    "\n",
    "Linked list is a sequential list of nodes containing the data which point to te next node of data in the sequence. The last node has no reference, marking the end.\n",
    "\n",
    "**Uses of Linked lists**\n",
    "1. to implement stacks, lists, queues.\n",
    "2. to implement circular lists - used for round robin operations.\n",
    "3. to represent real life objects like trains.\n",
    "4. hashtables.\n",
    "5. to implement adjacency lists and graphs.\n",
    "\n",
    "**Singly and Doubly linked lists**\n",
    "1. Singly linked lists is where the pointer points to the next node. It uses less memory (only one pointer per node) & simpler the implement. However, you can't travel backward.\n",
    "2. Doubly linked lists is where the pointet points to both the previous node as well as the next node. It uses more memory. pros is that it facilitates backward traversal as well."
   ]
  },
  {
   "cell_type": "markdown",
   "metadata": {},
   "source": [
    "# Stacks"
   ]
  },
  {
   "cell_type": "markdown",
   "metadata": {},
   "source": [
    "Stack is an one ended linear data structure which models real world stack with 2 operations: pop and push.\n",
    "\n",
    "**Uses:**\n",
    "1. undo operations in text editors.\n",
    "2. compiler syntax checking for brackets.\n",
    "3. keeping track of previous function call in recursion.\n",
    "4. using in Depth First Search (DFS).\n"
   ]
  },
  {
   "cell_type": "code",
   "execution_count": null,
   "metadata": {},
   "outputs": [],
   "source": []
  }
 ],
 "metadata": {
  "kernelspec": {
   "display_name": "Python 3",
   "language": "python",
   "name": "python3"
  },
  "language_info": {
   "codemirror_mode": {
    "name": "ipython",
    "version": 3
   },
   "file_extension": ".py",
   "mimetype": "text/x-python",
   "name": "python",
   "nbconvert_exporter": "python",
   "pygments_lexer": "ipython3",
   "version": "3.11.1"
  },
  "orig_nbformat": 4
 },
 "nbformat": 4,
 "nbformat_minor": 2
}
