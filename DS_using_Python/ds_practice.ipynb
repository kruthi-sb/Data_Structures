{
 "cells": [
  {
   "cell_type": "markdown",
   "metadata": {},
   "source": [
    "# Data Structures using Python"
   ]
  },
  {
   "cell_type": "markdown",
   "metadata": {},
   "source": [
    "## Fundamentals\n",
    "1. **Desc**:\n",
    "A data structure is a way of organizing the data so that it can be used effectively.   \n",
    "\n",
    "2. **Abstract Data Type(ADT)**:\n",
    "An abstract data type is an abstraction of a data structure that provides only the interface to which data structure must adhere to. It does not specify how to must be implemented and in what proogramming language.      \n",
    "   \n",
    "3. **Complexity Analysis**:\n",
    "- *Time Complexity*: how much time does my algorithm take to finish?\n",
    "- *Space Complexity*: how much space does my algorithm need for computation?\n",
    "4. **Big-O Notation**: measure of time complexity which gives the upper bound of the complexity in worst case.\n",
    "\n",
    "<img src=\"image.png\" alt=\"Big O notations\" width=\"300\" height=\"200\">\n",
    "<img src=\"image-1.png\" alt=\"Big O notations\" width=\"300\" height=\"200\">\n",
    "\n",
    "\n",
    "\n"
   ]
  },
  {
   "cell_type": "markdown",
   "metadata": {},
   "source": [
    "### Examples for Time Complexities"
   ]
  },
  {
   "cell_type": "markdown",
   "metadata": {},
   "source": [
    "1. Constant Time: O(1)"
   ]
  },
  {
   "cell_type": "code",
   "execution_count": 6,
   "metadata": {},
   "outputs": [],
   "source": [
    "# Constant Time\n",
    "# O(1)\n",
    "def constant_time():\n",
    "    a = 1\n",
    "    b = 2\n",
    "    c = a + 5*b\n",
    "    return c\n",
    "# f(n) = 1\n",
    "# O(f(n)) = O(1)\n",
    "\n",
    "def constant_time_2():\n",
    "    i = 0\n",
    "    while i < 10:\n",
    "        i += 1\n",
    "    return i\n",
    "# f(n) = 1\n",
    "# O(f(n)) = O(1)"
   ]
  },
  {
   "cell_type": "markdown",
   "metadata": {},
   "source": [
    "2. Linear Time: O(n)"
   ]
  },
  {
   "cell_type": "code",
   "execution_count": 5,
   "metadata": {},
   "outputs": [],
   "source": [
    "# Linear time\n",
    "# O(n)\n",
    "def linear_time(n):\n",
    "    i = 0\n",
    "    while i < n:\n",
    "        # some constant time operation\n",
    "        i += 1 # O(1)\n",
    "        return i\n",
    "# f(n) = n\n",
    "# O(f(n)) = O(n)\n",
    "\n",
    "def linear_time_2(n):\n",
    "    i = 0\n",
    "    while i < n:\n",
    "        # some constant time operation\n",
    "        i += 3 # O(1)\n",
    "        return i\n",
    "# f(n) = n/3\n",
    "# O(f(n)) = O(n)"
   ]
  },
  {
   "cell_type": "markdown",
   "metadata": {},
   "source": [
    "3. Quadratic Time: O(n^2)"
   ]
  },
  {
   "cell_type": "code",
   "execution_count": 26,
   "metadata": {},
   "outputs": [],
   "source": [
    "# Quadratic time\n",
    "# O(n^2)\n",
    "def quad_time(n):\n",
    "    for i in range(0,n,1):\n",
    "        for j in range(0,n,1):\n",
    "            # some constant time operation\n",
    "            p = i * j # O(1)\n",
    "            return p\n",
    "# n work is done n times\n",
    "# f(n) = n^2\n",
    "# O(f(n)) = O(n^2)\n",
    "\n",
    "def quad_time_2(n):\n",
    "    for i in range(0,n,1):\n",
    "        for j in range(i,n,1):  # j starts at i\n",
    "            # some constant time operation\n",
    "            p = i * j # O(1)\n",
    "            return p\n",
    "# in 2nd loop, j starts at i\n",
    "# i is 0 to n\n",
    "# if i = 0, we do \"n\" work; if i = 1, we do\"n-1\" work; and so on...\n",
    "# f(n) = n + (n-1) + (n-2) + ... + 1 = n(n+1)/2\n",
    "# f(n) = n^2/2 + n/2\n",
    "# O(f(n)) = O(n^2)\n",
    "\n",
    "def quad_time_3(n):\n",
    "    i = 0\n",
    "    while i < n:\n",
    "        j = 0\n",
    "        while j < 3*n:\n",
    "            j += 1\n",
    "        j = 0\n",
    "        while j < 2*n:\n",
    "            j += 1\n",
    "        i += 1\n",
    "        return i\n",
    "# f(n) = n * (3n + 2n) = 5n^2\n",
    "# O(f(n)) = O(n^2)"
   ]
  },
  {
   "cell_type": "markdown",
   "metadata": {},
   "source": [
    "4. Cubic Time: O(n^3)"
   ]
  },
  {
   "cell_type": "code",
   "execution_count": 8,
   "metadata": {},
   "outputs": [],
   "source": [
    "# Cubic time\n",
    "# O(n^3)\n",
    "def cubic_time(n):\n",
    "    for i in range(0,n,1):\n",
    "        for j in range(0,n,1):\n",
    "            for k in range(0,n,1):\n",
    "                # some constant time operation\n",
    "                p = i * j * k # O(1)\n",
    "                return p\n",
    "# work is done n*n*n times\n",
    "# f(n) = n^3\n",
    "# O(f(n)) = O(n^3)"
   ]
  },
  {
   "cell_type": "markdown",
   "metadata": {},
   "source": [
    "5. Logarithmic Time: O(log n)"
   ]
  },
  {
   "cell_type": "code",
   "execution_count": 16,
   "metadata": {},
   "outputs": [],
   "source": [
    "# Logarithmic time\n",
    "# O(log(n))\n",
    "\n",
    "# Example of Binary Search\n",
    "# search for a number in a sorted list by repeatedly dividing the search interval in half.\n",
    "def log_time(n, arr, key):\n",
    "    # n is the length of the list\n",
    "    # arr is the sorted list\n",
    "    low = 0\n",
    "    high = n-1\n",
    "    while low <= high:\n",
    "        mid = (low + high)//2\n",
    "        if arr[mid] == key:\n",
    "            return mid\n",
    "        elif arr[mid] < key:\n",
    "            low = mid + 1\n",
    "        elif arr[mid] > key:\n",
    "            high = mid - 1\n",
    "    return -1\n",
    "# in each iteration, we divide the search interval in half\n",
    "# which reduces the search space by half each time\n",
    "# f(n) = log2(n)\n",
    "# O(f(n)) = O(log2(n))\n"
   ]
  },
  {
   "cell_type": "markdown",
   "metadata": {},
   "source": [
    "6. Another example"
   ]
  },
  {
   "cell_type": "code",
   "execution_count": 29,
   "metadata": {},
   "outputs": [],
   "source": [
    "def another_eg(n):\n",
    "    i = 0\n",
    "    while i < 3*n:\n",
    "        j = 10\n",
    "        while j <= 50:\n",
    "            j += 1\n",
    "        j = 0\n",
    "        while j < n^3:\n",
    "            j += 2\n",
    "        i += 1\n",
    "        return j\n",
    "# f(n) = 3n * (50-10 + n^3/2) = 3n * (40 + n^3/2)\n",
    "# f(n) = 120n + 3n^4/2\n",
    "# O(f(n)) = O(n^4)"
   ]
  },
  {
   "cell_type": "code",
   "execution_count": null,
   "metadata": {},
   "outputs": [],
   "source": []
  }
 ],
 "metadata": {
  "kernelspec": {
   "display_name": "Python 3",
   "language": "python",
   "name": "python3"
  },
  "language_info": {
   "codemirror_mode": {
    "name": "ipython",
    "version": 3
   },
   "file_extension": ".py",
   "mimetype": "text/x-python",
   "name": "python",
   "nbconvert_exporter": "python",
   "pygments_lexer": "ipython3",
   "version": "3.11.1"
  },
  "orig_nbformat": 4
 },
 "nbformat": 4,
 "nbformat_minor": 2
}
